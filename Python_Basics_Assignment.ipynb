{
  "nbformat": 4,
  "nbformat_minor": 0,
  "metadata": {
    "colab": {
      "provenance": []
    },
    "kernelspec": {
      "name": "python3",
      "display_name": "Python 3"
    },
    "language_info": {
      "name": "python"
    }
  },
  "cells": [
    {
      "cell_type": "markdown",
      "source": [
        "**Que. 1. Explain the key features of python that make it a popular choice for programming**.\n",
        "\n",
        "**Ans.** Python is a high-level, interpreted programming language. It is also open source language which means the source code is freely available and can be modified and distributed by anyone.\n",
        "\n",
        "**Key features of Python :-**\n",
        "\n",
        "1. Easy to use and learn\n",
        "2.Multi-Paradigm\n",
        "3.Open source\n",
        "4.Large Standard Library\n",
        "5.Object-Oriented programming Language\n",
        "6.Dynamically Typed\n",
        "7.Large Community Support\n",
        "8.Portable\n",
        "9.Platform independent\n",
        "10.Saalable\n",
        "11.High Level Language\n",
        "12.Interpreted\n",
        "13.Third Party Libraries\n",
        "14.cross Platform\n",
        "15.Frontend and Backend development\n",
        "16.Easy to Debug"
      ],
      "metadata": {
        "id": "cGHfngkITo_U"
      }
    },
    {
      "cell_type": "markdown",
      "source": [
        "**Que. 2.Describe the role of predefined keywords in python and provides examples of how they are used in a program.**\n",
        "\n",
        "**Ans.** Predefined keywords on Python,also known as reserved words,are words with specific meanings and purposes that define the syntax and logic of python code.\n",
        "\n",
        "**Example :-**\n"
      ],
      "metadata": {
        "id": "sjilJYqQZqhv"
      }
    },
    {
      "cell_type": "code",
      "execution_count": 40,
      "metadata": {
        "id": "noc_eeD-RRD4",
        "colab": {
          "base_uri": "https://localhost:8080/"
        },
        "outputId": "5f74743f-d16c-4108-f901-82ab822bf0d4"
      },
      "outputs": [
        {
          "output_type": "stream",
          "name": "stdout",
          "text": [
            "\n",
            "Here is a list of the Python keywords.  Enter any keyword to get more help.\n",
            "\n",
            "False               class               from                or\n",
            "None                continue            global              pass\n",
            "True                def                 if                  raise\n",
            "and                 del                 import              return\n",
            "as                  elif                in                  try\n",
            "assert              else                is                  while\n",
            "async               except              lambda              with\n",
            "await               finally             nonlocal            yield\n",
            "break               for                 not                 \n",
            "\n"
          ]
        }
      ],
      "source": [
        "help(\"keywords\") #The total no of keywords are 35"
      ]
    },
    {
      "cell_type": "code",
      "source": [
        "#Indentation>> more readble\n",
        "if 3 > 2:\n",
        "    print(\"greater\")"
      ],
      "metadata": {
        "colab": {
          "base_uri": "https://localhost:8080/"
        },
        "id": "3AHhkOEFDAZR",
        "outputId": "7eaedc3c-409f-4cea-fe6f-d6831542a996"
      },
      "execution_count": 43,
      "outputs": [
        {
          "output_type": "stream",
          "name": "stdout",
          "text": [
            "greater\n"
          ]
        }
      ]
    },
    {
      "cell_type": "markdown",
      "source": [],
      "metadata": {
        "id": "KkY_f2cvSF5Q"
      }
    },
    {
      "cell_type": "markdown",
      "source": [
        "**Que. 3.Compare and contrast mutable and immutable objects in python with example**.\n",
        "\n",
        "**Ans.**\n",
        "\n",
        "\n",
        "*   Mutable Objects whose state or value can be changed after they are created are called as mutable object.\n",
        "*   Immutable Objects whose state or value can not be changed after they are\n",
        "created are called as immutable objects.\n",
        "\n",
        "\n",
        "\n",
        "*   Example :-  \n",
        "              Mutable Object :-list is a type of mutable object/supports item assignment\n",
        "\n",
        "\n"
      ],
      "metadata": {
        "id": "Dkc9mC8wnazb"
      }
    },
    {
      "cell_type": "code",
      "source": [
        "list1 = [1,2,3,4.3,3+5j,True,\"Sanket\"]\n",
        "list1"
      ],
      "metadata": {
        "colab": {
          "base_uri": "https://localhost:8080/"
        },
        "id": "Oj_YqsI-p6X-",
        "outputId": "747ae39d-58d7-4598-a5a0-0e6dfee613c3"
      },
      "execution_count": null,
      "outputs": [
        {
          "output_type": "execute_result",
          "data": {
            "text/plain": [
              "[1, 2, 3, 4.3, (3+5j), True, 'Sanket']"
            ]
          },
          "metadata": {},
          "execution_count": 1
        }
      ]
    },
    {
      "cell_type": "code",
      "source": [
        "list1[1]"
      ],
      "metadata": {
        "colab": {
          "base_uri": "https://localhost:8080/"
        },
        "id": "esoa1DKAsXVy",
        "outputId": "7f05aefb-5c34-4674-d471-833fab8ebb2f"
      },
      "execution_count": null,
      "outputs": [
        {
          "output_type": "execute_result",
          "data": {
            "text/plain": [
              "2"
            ]
          },
          "metadata": {},
          "execution_count": 2
        }
      ]
    },
    {
      "cell_type": "code",
      "source": [
        "list[6]"
      ],
      "metadata": {
        "colab": {
          "base_uri": "https://localhost:8080/"
        },
        "id": "WGlBK_eBsxKa",
        "outputId": "500707bc-1ae5-4ed8-828a-085e491cd4c1"
      },
      "execution_count": null,
      "outputs": [
        {
          "output_type": "execute_result",
          "data": {
            "text/plain": [
              "list[6]"
            ]
          },
          "metadata": {},
          "execution_count": 3
        }
      ]
    },
    {
      "cell_type": "code",
      "source": [
        "list1[6] = \"Amit\""
      ],
      "metadata": {
        "id": "BhM02M2Xs021"
      },
      "execution_count": null,
      "outputs": []
    },
    {
      "cell_type": "code",
      "source": [
        "list1"
      ],
      "metadata": {
        "colab": {
          "base_uri": "https://localhost:8080/"
        },
        "id": "fcQrLg4ptI3p",
        "outputId": "9ff494cb-6592-4faa-fbe2-90bc7afef93e"
      },
      "execution_count": null,
      "outputs": [
        {
          "output_type": "execute_result",
          "data": {
            "text/plain": [
              "[1, 2, 3, 4.3, (3+5j), True, 'Amit']"
            ]
          },
          "metadata": {},
          "execution_count": 6
        }
      ]
    },
    {
      "cell_type": "markdown",
      "source": [
        "   Immutable Object :- string is a type of immutable object/doesn't supports item assignment"
      ],
      "metadata": {
        "id": "h96DU2kItZIO"
      }
    },
    {
      "cell_type": "code",
      "source": [
        "a = \"Sanket\""
      ],
      "metadata": {
        "id": "K8c1EIEktMfH"
      },
      "execution_count": null,
      "outputs": []
    },
    {
      "cell_type": "code",
      "source": [
        "a"
      ],
      "metadata": {
        "colab": {
          "base_uri": "https://localhost:8080/",
          "height": 36
        },
        "id": "M2qt_UUhtqH6",
        "outputId": "37015133-bc9e-4d8b-9f9d-11efca2acd07"
      },
      "execution_count": null,
      "outputs": [
        {
          "output_type": "execute_result",
          "data": {
            "text/plain": [
              "'Sanket'"
            ],
            "application/vnd.google.colaboratory.intrinsic+json": {
              "type": "string"
            }
          },
          "metadata": {},
          "execution_count": 9
        }
      ]
    },
    {
      "cell_type": "code",
      "source": [
        "a[0] = \"I\""
      ],
      "metadata": {
        "colab": {
          "base_uri": "https://localhost:8080/",
          "height": 141
        },
        "id": "yIUOtz6cuOIl",
        "outputId": "671ce8bd-d056-4d33-f7ac-839c3591ebcf"
      },
      "execution_count": null,
      "outputs": [
        {
          "output_type": "error",
          "ename": "TypeError",
          "evalue": "'str' object does not support item assignment",
          "traceback": [
            "\u001b[0;31m---------------------------------------------------------------------------\u001b[0m",
            "\u001b[0;31mTypeError\u001b[0m                                 Traceback (most recent call last)",
            "\u001b[0;32m<ipython-input-10-b055ba912816>\u001b[0m in \u001b[0;36m<cell line: 1>\u001b[0;34m()\u001b[0m\n\u001b[0;32m----> 1\u001b[0;31m \u001b[0ma\u001b[0m\u001b[0;34m[\u001b[0m\u001b[0;36m0\u001b[0m\u001b[0;34m]\u001b[0m \u001b[0;34m=\u001b[0m \u001b[0;34m\"I\"\u001b[0m\u001b[0;34m\u001b[0m\u001b[0;34m\u001b[0m\u001b[0m\n\u001b[0m",
            "\u001b[0;31mTypeError\u001b[0m: 'str' object does not support item assignment"
          ]
        }
      ]
    },
    {
      "cell_type": "code",
      "source": [
        "a[5] = \"w\""
      ],
      "metadata": {
        "colab": {
          "base_uri": "https://localhost:8080/",
          "height": 141
        },
        "id": "9qIPaBfWuXWC",
        "outputId": "cf316695-b52f-4fdd-a02b-5bc6e44c980c"
      },
      "execution_count": null,
      "outputs": [
        {
          "output_type": "error",
          "ename": "TypeError",
          "evalue": "'str' object does not support item assignment",
          "traceback": [
            "\u001b[0;31m---------------------------------------------------------------------------\u001b[0m",
            "\u001b[0;31mTypeError\u001b[0m                                 Traceback (most recent call last)",
            "\u001b[0;32m<ipython-input-11-098949755245>\u001b[0m in \u001b[0;36m<cell line: 1>\u001b[0;34m()\u001b[0m\n\u001b[0;32m----> 1\u001b[0;31m \u001b[0ma\u001b[0m\u001b[0;34m[\u001b[0m\u001b[0;36m5\u001b[0m\u001b[0;34m]\u001b[0m \u001b[0;34m=\u001b[0m \u001b[0;34m\"w\"\u001b[0m\u001b[0;34m\u001b[0m\u001b[0;34m\u001b[0m\u001b[0m\n\u001b[0m",
            "\u001b[0;31mTypeError\u001b[0m: 'str' object does not support item assignment"
          ]
        }
      ]
    },
    {
      "cell_type": "markdown",
      "source": [
        "**Que. 4.Discuss the different types of operators in python and provide examples of how they are used.**\n",
        "\n",
        "**Ans.**\n",
        "        \n",
        "\n",
        "*   Arithmetic operators (+, -, *, /,%,**,//)\n",
        "\n",
        "*   Comparison operators (==, !=, <, >,>=,<=)\n",
        "\n",
        "*   Logical operators (and, or, not)\n",
        "*  Bitwise operators (&,|,~,^,<<,>>)\n",
        "\n",
        "\n",
        "*  Assignment operators (=, +=, -=, *=, /=)\n",
        "\n",
        "\n",
        "*   Membership Operators (in, not in)\n",
        "\n",
        "\n",
        "*   Identity operators (is, is not)"
      ],
      "metadata": {
        "id": "NQsmRGpVwOox"
      }
    },
    {
      "cell_type": "markdown",
      "source": [],
      "metadata": {
        "id": "ZMvocbkauwB_"
      }
    },
    {
      "cell_type": "code",
      "source": [
        "#Arithmetic operators\n",
        "\n",
        "a = 7\n",
        "b = 6\n",
        "\n",
        "print(a+b)\n",
        "print(a-b)\n",
        "print(a*b)\n",
        "print(a/b)\n",
        "print(a%b)\n",
        "print(a**b)\n",
        "print(a//b)"
      ],
      "metadata": {
        "colab": {
          "base_uri": "https://localhost:8080/"
        },
        "id": "jEVWUvbMunkr",
        "outputId": "1ba91ff3-ecc0-494f-dd9c-cdcc229e849c"
      },
      "execution_count": null,
      "outputs": [
        {
          "output_type": "stream",
          "name": "stdout",
          "text": [
            "13\n",
            "1\n",
            "42\n",
            "1.1666666666666667\n",
            "1\n",
            "117649\n",
            "1\n"
          ]
        }
      ]
    },
    {
      "cell_type": "code",
      "source": [
        "#Comparison operators\n",
        "\n",
        "a = 10\n",
        "b = 5\n",
        "\n",
        "print(a==b)\n",
        "print(a!=b)\n",
        "print(a<b)\n",
        "print(a>b)\n",
        "print(a>=b)\n",
        "print(a<=b)"
      ],
      "metadata": {
        "colab": {
          "base_uri": "https://localhost:8080/"
        },
        "id": "tVYBnw1P0Uvc",
        "outputId": "952c3cef-1a0f-4d0b-95f8-05a100ec9525"
      },
      "execution_count": null,
      "outputs": [
        {
          "output_type": "stream",
          "name": "stdout",
          "text": [
            "False\n",
            "True\n",
            "False\n",
            "True\n",
            "True\n",
            "False\n"
          ]
        }
      ]
    },
    {
      "cell_type": "code",
      "source": [
        "#Logical operators\n",
        "\n",
        "a = True\n",
        "b = False\n",
        "\n",
        "print(a and b)\n",
        "print(a or b)\n",
        "print(not a)"
      ],
      "metadata": {
        "colab": {
          "base_uri": "https://localhost:8080/"
        },
        "id": "23nXoNta0mmt",
        "outputId": "1cadf275-545b-4e16-8b4b-28ea9591fcdc"
      },
      "execution_count": null,
      "outputs": [
        {
          "output_type": "stream",
          "name": "stdout",
          "text": [
            "False\n",
            "True\n",
            "False\n"
          ]
        }
      ]
    },
    {
      "cell_type": "code",
      "source": [
        "#Bitwise operators\n",
        "\n",
        "a = 5\n",
        "b = 8\n",
        "\n",
        "print(a & b)\n",
        "print(a | b)\n",
        "print(~a)\n",
        "print(a ^ b)\n",
        "print(a << b)\n",
        "print(a >> b)"
      ],
      "metadata": {
        "colab": {
          "base_uri": "https://localhost:8080/"
        },
        "id": "CFCvG_0V07SW",
        "outputId": "a7a2e20c-d999-4968-b423-32e4b2ea8991"
      },
      "execution_count": null,
      "outputs": [
        {
          "output_type": "stream",
          "name": "stdout",
          "text": [
            "0\n",
            "13\n",
            "-6\n",
            "13\n",
            "1280\n",
            "0\n"
          ]
        }
      ]
    },
    {
      "cell_type": "code",
      "source": [
        "#Assignment operators\n",
        "\n",
        "a = 4\n",
        "b = 7\n",
        "\n",
        "a += b\n",
        "print(a)\n",
        "\n",
        "a -= b\n",
        "print(a)\n",
        "\n",
        "a *= b\n",
        "print(a)\n",
        "\n",
        "a /= b\n",
        "print(a)"
      ],
      "metadata": {
        "colab": {
          "base_uri": "https://localhost:8080/"
        },
        "id": "3YBZrVCV1Cmm",
        "outputId": "d2b9c0fb-936d-4740-9b05-b59b54bc3382"
      },
      "execution_count": null,
      "outputs": [
        {
          "output_type": "stream",
          "name": "stdout",
          "text": [
            "11\n",
            "4\n",
            "28\n",
            "4.0\n"
          ]
        }
      ]
    },
    {
      "cell_type": "code",
      "source": [
        "#Membership Operators\n",
        "\n",
        "a = [1,2,3,4,5]\n",
        "b = 3\n",
        "\n",
        "print(b in a)\n",
        "print(b not in a)"
      ],
      "metadata": {
        "colab": {
          "base_uri": "https://localhost:8080/"
        },
        "id": "fbbNMvs32CJP",
        "outputId": "25d5ebb4-8aaf-4ebc-f0c7-5d693f0b95af"
      },
      "execution_count": null,
      "outputs": [
        {
          "output_type": "stream",
          "name": "stdout",
          "text": [
            "True\n",
            "False\n"
          ]
        }
      ]
    },
    {
      "cell_type": "code",
      "source": [
        "#identity operators\n",
        "\n",
        "a = 5\n",
        "b = 5\n",
        "\n",
        "print(a is b)\n",
        "print(a is not b)"
      ],
      "metadata": {
        "colab": {
          "base_uri": "https://localhost:8080/"
        },
        "id": "Tox0U3_Q2Oba",
        "outputId": "8f19a12d-631f-4fda-c7cc-3e1409c27c2e"
      },
      "execution_count": null,
      "outputs": [
        {
          "output_type": "stream",
          "name": "stdout",
          "text": [
            "True\n",
            "False\n"
          ]
        }
      ]
    },
    {
      "cell_type": "markdown",
      "source": [
        "**Que. 5.Explain the concept of type casting in python with examples.**\n",
        "\n",
        "**Ans.**\n",
        "The process of changing a variable's data type to another data type. There are two types of type casting in Python:\n",
        "\n",
        "\n",
        "\n",
        "*  Implicit\n",
        "*   Explicit\n",
        "\n",
        "\n",
        "**Example:-**\n",
        "             string to integer,interger to float,string to float,integer to string."
      ],
      "metadata": {
        "id": "eL6b7QYu3DXR"
      }
    },
    {
      "cell_type": "code",
      "source": [
        "#string to integer\n",
        "a = \"4\"\n",
        "print(type(a))\n",
        "print(type(int(a)))\n"
      ],
      "metadata": {
        "id": "0eyRTesD2sj5",
        "colab": {
          "base_uri": "https://localhost:8080/"
        },
        "outputId": "098f3a0e-d882-474f-bf6d-7af275022025"
      },
      "execution_count": 1,
      "outputs": [
        {
          "output_type": "stream",
          "name": "stdout",
          "text": [
            "<class 'str'>\n",
            "<class 'int'>\n"
          ]
        }
      ]
    },
    {
      "cell_type": "code",
      "source": [
        "#integer to float\n",
        "a = 5\n",
        "type(a)\n"
      ],
      "metadata": {
        "colab": {
          "base_uri": "https://localhost:8080/"
        },
        "id": "NJSJB6sHjWGA",
        "outputId": "cfa3ef11-63c5-435e-8dbc-3b990bb007e7"
      },
      "execution_count": 2,
      "outputs": [
        {
          "output_type": "execute_result",
          "data": {
            "text/plain": [
              "int"
            ]
          },
          "metadata": {},
          "execution_count": 2
        }
      ]
    },
    {
      "cell_type": "code",
      "source": [
        "b = float(a)\n",
        "b\n"
      ],
      "metadata": {
        "colab": {
          "base_uri": "https://localhost:8080/"
        },
        "id": "FQjT6Bl_k6MC",
        "outputId": "00028d74-6613-43e7-f5ad-ca1cb351d9ad"
      },
      "execution_count": 5,
      "outputs": [
        {
          "output_type": "execute_result",
          "data": {
            "text/plain": [
              "5.0"
            ]
          },
          "metadata": {},
          "execution_count": 5
        }
      ]
    },
    {
      "cell_type": "code",
      "source": [
        "type(b)"
      ],
      "metadata": {
        "colab": {
          "base_uri": "https://localhost:8080/"
        },
        "id": "iPaPx_4Hk9W9",
        "outputId": "67b82933-465e-4714-d6c1-2f62e4209d34"
      },
      "execution_count": 6,
      "outputs": [
        {
          "output_type": "execute_result",
          "data": {
            "text/plain": [
              "float"
            ]
          },
          "metadata": {},
          "execution_count": 6
        }
      ]
    },
    {
      "cell_type": "code",
      "source": [
        "#integer to string\n",
        "a = 5\n",
        "type(a)\n"
      ],
      "metadata": {
        "colab": {
          "base_uri": "https://localhost:8080/"
        },
        "id": "sryBPN7qlLit",
        "outputId": "b1bb8933-248a-41e9-86e6-4f0310a87345"
      },
      "execution_count": 19,
      "outputs": [
        {
          "output_type": "execute_result",
          "data": {
            "text/plain": [
              "int"
            ]
          },
          "metadata": {},
          "execution_count": 19
        }
      ]
    },
    {
      "cell_type": "code",
      "source": [
        "a"
      ],
      "metadata": {
        "colab": {
          "base_uri": "https://localhost:8080/"
        },
        "id": "ILE8-sBimMRL",
        "outputId": "4a1a400f-268e-4297-8ae7-cd3712e633d1"
      },
      "execution_count": 20,
      "outputs": [
        {
          "output_type": "execute_result",
          "data": {
            "text/plain": [
              "5"
            ]
          },
          "metadata": {},
          "execution_count": 20
        }
      ]
    },
    {
      "cell_type": "code",
      "source": [
        "b = str(a)\n",
        "b"
      ],
      "metadata": {
        "colab": {
          "base_uri": "https://localhost:8080/",
          "height": 36
        },
        "id": "xS2aU_iCmSqo",
        "outputId": "aa0a2a0f-8c19-4074-da01-1883f557cedd"
      },
      "execution_count": 21,
      "outputs": [
        {
          "output_type": "execute_result",
          "data": {
            "text/plain": [
              "'5'"
            ],
            "application/vnd.google.colaboratory.intrinsic+json": {
              "type": "string"
            }
          },
          "metadata": {},
          "execution_count": 21
        }
      ]
    },
    {
      "cell_type": "code",
      "source": [
        "type(b)"
      ],
      "metadata": {
        "colab": {
          "base_uri": "https://localhost:8080/"
        },
        "id": "a6I55kmhmlcp",
        "outputId": "f2f53d00-c3f4-4117-a432-37befe9e2314"
      },
      "execution_count": 22,
      "outputs": [
        {
          "output_type": "execute_result",
          "data": {
            "text/plain": [
              "str"
            ]
          },
          "metadata": {},
          "execution_count": 22
        }
      ]
    },
    {
      "cell_type": "markdown",
      "source": [
        "**Que.  6.How do conditional statements work in python?Illustrate with examples.**\n",
        "\n",
        "**Ans.**Conditional statements in Python are used to execute a specific block of code based on the truth value of a condition. The most common conditional statements in Python are if, elif, and else. These allow the program to react differently depending on whether a condition (or a series of conditions) is true or false.\n",
        "\n",
        "**Example:-**"
      ],
      "metadata": {
        "id": "cRSauiRapEr6"
      }
    },
    {
      "cell_type": "code",
      "source": [
        "\n",
        "x = 10\n",
        "if x > 5:\n",
        "    print(\"x is greater than 5\")\n",
        "elif x == 5:\n",
        "    print(\"x is equal to 5\")\n",
        "else:\n",
        "    print(\"x is less than 5\")\n",
        "\n"
      ],
      "metadata": {
        "colab": {
          "base_uri": "https://localhost:8080/"
        },
        "id": "xbEvSrLzon_x",
        "outputId": "9ffadb8d-9c1e-4c1d-e635-9247027569fd"
      },
      "execution_count": 23,
      "outputs": [
        {
          "output_type": "stream",
          "name": "stdout",
          "text": [
            "x is greater than 5\n"
          ]
        }
      ]
    },
    {
      "cell_type": "code",
      "source": [
        "score = 75\n",
        "if score >= 90:\n",
        "    print(\"Grade A\")\n",
        "elif (80<=score<90):\n",
        "    print(\"Grade B\")\n",
        "elif (70<=score<80):\n",
        "    print(\"Grade C\")\n",
        "elif (60<=score<70):\n",
        "    print(\"Grade D\")\n",
        "elif (50<=score<60):\n",
        "    print(\"Grade E \")\n",
        "else:\n",
        "    print(\"Grade F\")"
      ],
      "metadata": {
        "colab": {
          "base_uri": "https://localhost:8080/"
        },
        "id": "kZyIWoN0ue2p",
        "outputId": "d9485a7b-d0fe-434e-a10d-858dd993f0c4"
      },
      "execution_count": 24,
      "outputs": [
        {
          "output_type": "stream",
          "name": "stdout",
          "text": [
            "Grade C\n"
          ]
        }
      ]
    },
    {
      "cell_type": "markdown",
      "source": [
        "**Que. 7.Describe the different types of loops in Python and their use cases with examples.**\n",
        "\n",
        "**Ans.** It allows you to execute a block of code repeatedly.\n",
        "\n",
        "\n",
        "**Types:-**\n",
        "\n",
        "*   **for loop**:-Iterate over a sequence of elements >> strings, list,array.\n",
        "\n",
        "* **while loop:-** repeatedly executed a block of code untill a condition is met.  "
      ],
      "metadata": {
        "id": "bdR1l4_VvHqX"
      }
    },
    {
      "cell_type": "code",
      "source": [
        "#for loop\n",
        "\n",
        "a = 4\n",
        "for i in range(0, a):\n",
        "    print(i)"
      ],
      "metadata": {
        "colab": {
          "base_uri": "https://localhost:8080/"
        },
        "id": "DbW7eUO_vEo3",
        "outputId": "a74a6a28-f124-42cb-f8de-41a910130af2"
      },
      "execution_count": 25,
      "outputs": [
        {
          "output_type": "stream",
          "name": "stdout",
          "text": [
            "0\n",
            "1\n",
            "2\n",
            "3\n"
          ]
        }
      ]
    },
    {
      "cell_type": "code",
      "source": [
        "for i in range(10):\n",
        "    print(i)"
      ],
      "metadata": {
        "colab": {
          "base_uri": "https://localhost:8080/"
        },
        "id": "T-mTfTL-4FDI",
        "outputId": "0cb2ed3f-94cb-4d37-8ee6-c99ed834a50e"
      },
      "execution_count": 27,
      "outputs": [
        {
          "output_type": "stream",
          "name": "stdout",
          "text": [
            "0\n",
            "1\n",
            "2\n",
            "3\n",
            "4\n",
            "5\n",
            "6\n",
            "7\n",
            "8\n",
            "9\n"
          ]
        }
      ]
    },
    {
      "cell_type": "code",
      "source": [
        "for i in range(10):\n",
        "    print(i,end=\" \")"
      ],
      "metadata": {
        "colab": {
          "base_uri": "https://localhost:8080/"
        },
        "id": "LHhbVuV24acK",
        "outputId": "be7b394e-d70b-4b39-cfd9-cb28c62acb0b"
      },
      "execution_count": 29,
      "outputs": [
        {
          "output_type": "stream",
          "name": "stdout",
          "text": [
            "0 1 2 3 4 5 6 7 8 9 "
          ]
        }
      ]
    },
    {
      "cell_type": "code",
      "source": [
        "l = [1,2,\"Sanket\",\"pwskills\"]\n",
        "for i in l:\n",
        "    print(i)"
      ],
      "metadata": {
        "colab": {
          "base_uri": "https://localhost:8080/"
        },
        "id": "jTj2T4CR8XHk",
        "outputId": "1455b12d-0635-419b-8503-95deb28b08d2"
      },
      "execution_count": 34,
      "outputs": [
        {
          "output_type": "stream",
          "name": "stdout",
          "text": [
            "1\n",
            "2\n",
            "Sanket\n",
            "pwskills\n"
          ]
        }
      ]
    },
    {
      "cell_type": "code",
      "source": [
        "for i in l:\n",
        "    print(i)\n",
        "else:\n",
        "    print(\"This will be executed when for loop end without a break statement\")"
      ],
      "metadata": {
        "colab": {
          "base_uri": "https://localhost:8080/"
        },
        "id": "RZ5Y4VeG8XK_",
        "outputId": "5afa3a2c-ebd4-4a0b-9b0b-609e8a87f8f6"
      },
      "execution_count": 35,
      "outputs": [
        {
          "output_type": "stream",
          "name": "stdout",
          "text": [
            "1\n",
            "2\n",
            "Sanket\n",
            "pwskills\n",
            "This will be executed when for loop end without a break statement\n"
          ]
        }
      ]
    },
    {
      "cell_type": "code",
      "source": [
        "#break statement i for loop\n",
        "for i in l:\n",
        "    if i == \"Sanket\":\n",
        "        break\n",
        "    print(i)\n",
        "else:\n",
        "    print(\"This will be executed when for loop end without a break statement\")"
      ],
      "metadata": {
        "colab": {
          "base_uri": "https://localhost:8080/"
        },
        "id": "eJHyi31C7vrH",
        "outputId": "b10a7b65-a78b-4a8a-c044-b769f8c8347a"
      },
      "execution_count": 36,
      "outputs": [
        {
          "output_type": "stream",
          "name": "stdout",
          "text": [
            "1\n",
            "2\n"
          ]
        }
      ]
    },
    {
      "cell_type": "code",
      "source": [
        "#continue >> skips the iteration\n",
        "for i in l:\n",
        "    if i == \"Sanket\":\n",
        "        continue\n",
        "    print(i)\n",
        "else:\n",
        "    print(\"This will be executed when for loop end without a break statement\")"
      ],
      "metadata": {
        "colab": {
          "base_uri": "https://localhost:8080/"
        },
        "id": "fA9zGvXq8nzx",
        "outputId": "2bd26e38-f23f-40cc-e10f-fbffe3efa4aa"
      },
      "execution_count": 37,
      "outputs": [
        {
          "output_type": "stream",
          "name": "stdout",
          "text": [
            "1\n",
            "2\n",
            "pwskills\n",
            "This will be executed when for loop end without a break statement\n"
          ]
        }
      ]
    },
    {
      "cell_type": "code",
      "source": [
        "#while loop\n",
        "\n",
        "count = 0\n",
        "while (count < 3):\n",
        "    count = count + 1\n",
        "    print(\"Hello world\")"
      ],
      "metadata": {
        "colab": {
          "base_uri": "https://localhost:8080/"
        },
        "id": "65kj1-5A4opL",
        "outputId": "6c190962-091f-419d-e5f9-f520204f5116"
      },
      "execution_count": 30,
      "outputs": [
        {
          "output_type": "stream",
          "name": "stdout",
          "text": [
            "Hello world\n",
            "Hello world\n",
            "Hello world\n"
          ]
        }
      ]
    },
    {
      "cell_type": "code",
      "source": [
        "n = 7\n",
        "i = 1\n",
        "while i < n :\n",
        "    print(i)\n",
        "    i = i+1"
      ],
      "metadata": {
        "colab": {
          "base_uri": "https://localhost:8080/"
        },
        "id": "NsK8zMuu5hmH",
        "outputId": "323eff7e-1768-4521-9825-1073ea4d6b6b"
      },
      "execution_count": 31,
      "outputs": [
        {
          "output_type": "stream",
          "name": "stdout",
          "text": [
            "1\n",
            "2\n",
            "3\n",
            "4\n",
            "5\n",
            "6\n"
          ]
        }
      ]
    },
    {
      "cell_type": "code",
      "source": [
        "#break condition >> the condition is met it will break loop\n",
        "n = 7\n",
        "i = 1\n",
        "while i < n :\n",
        "    print(i)\n",
        "    i = i+1\n",
        "    if i == 3:\n",
        "        break\n",
        "else:\n",
        "    print(\"this will be executed when the while is run successfuly withou any break \")"
      ],
      "metadata": {
        "colab": {
          "base_uri": "https://localhost:8080/"
        },
        "id": "WR3F_T4b5pj9",
        "outputId": "83b7d159-50cb-433d-cbbb-5ecd433edfb3"
      },
      "execution_count": 32,
      "outputs": [
        {
          "output_type": "stream",
          "name": "stdout",
          "text": [
            "1\n",
            "2\n"
          ]
        }
      ]
    },
    {
      "cell_type": "code",
      "source": [
        "#continue >> skips the iteration\n",
        "n = 7\n",
        "i = 1\n",
        "while i < n :\n",
        "    i = i+1\n",
        "    if i == 3:\n",
        "        continue\n",
        "    print(i)\n",
        "else:\n",
        "    print(\"this will be executed when the while is run successfuly withou any break \")"
      ],
      "metadata": {
        "colab": {
          "base_uri": "https://localhost:8080/"
        },
        "id": "7tUjdg-b6SG_",
        "outputId": "7ce3eff0-f6d6-45a2-d430-c99dae0bd1dd"
      },
      "execution_count": 33,
      "outputs": [
        {
          "output_type": "stream",
          "name": "stdout",
          "text": [
            "2\n",
            "4\n",
            "5\n",
            "6\n",
            "7\n",
            "this will be executed when the while is run successfuly withou any break \n"
          ]
        }
      ]
    },
    {
      "cell_type": "code",
      "source": [],
      "metadata": {
        "id": "2kpyz09t6ol6"
      },
      "execution_count": null,
      "outputs": []
    }
  ]
}